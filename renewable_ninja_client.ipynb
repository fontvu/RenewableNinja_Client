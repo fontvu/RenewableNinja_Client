{
 "cells": [
  {
   "attachments": {},
   "cell_type": "markdown",
   "metadata": {},
   "source": [
    "# Renewable Ninja API Client\n",
    "Renewable Ninja provides API access to renewable energy data. This notebook demonstrates how to use the API to retrieve data from the Renewable Ninja database. The API is documented at https://api.renewables.ninja. Before running the notebook, you need to create an account at https://www.renewables.ninja. The API key can be found in the user profile page. It is a string of 32 characters and is used to authenticate the user. The API key is passed as a parameter ``token`` in the notebook.\n",
    "\n",
    "The location of the data is specified by the latitude and longitude of the location. The latitude and longitude are passed as parameters ``lat`` and ``lon`` in the notebook. The latitude and longitude are specified in decimal degrees. Those data is written  in **locations.csv** file. The coordinates are taken from Google Maps."
   ]
  },
  {
   "attachments": {},
   "cell_type": "markdown",
   "metadata": {},
   "source": [
    "## Prerequisites\n",
    "This notebook requires the following packages:\n",
    "- ``requests``, for making request to the API\n",
    "- ``csv``, for reading and writing csv files\n",
    "- ``os``, for creating directories\n",
    "- ``ratelimit``, for limiting the number of requests per second\n",
    "\n",
    "I recommend using the virtual environment to install the packages and run the notebook. The virtual environment can be created according to this [article](https://janakiev.com/blog/jupyter-virtual-envs/)."
   ]
  },
  {
   "cell_type": "code",
   "execution_count": 142,
   "metadata": {},
   "outputs": [
    {
     "name": "stdout",
     "output_type": "stream",
     "text": [
      "The locations from the csv file, which contains the name, longitude and latitude of the places.\n",
      "['IE0', '52.71393469531283', ' -7.548505556345182']\n",
      "['GB5', '54.61005097831343', ' -5.994804087604594']\n",
      "['GB2', '55.95491046630958', ' -3.6021038257441016']\n",
      "['GB4', '51.62769925163615', ' -3.011697267622681']\n",
      "['GB1', '53.10746017233778', ' -2.203772503877576']\n",
      "['GB3', '54.06657801985359', ' -0.5568489470125563']\n",
      "['GB0', '51.453758824031084', ' 0.15785372860810987']\n",
      "['ES0', '42.744807308016355', ' -5.4567506930404095']\n",
      "['ES2', '37.945924870242806', ' -5.648658099341088']\n",
      "['ES1', '40.86146554373322', ' -0.05135874890460168']\n",
      "['ES4', '39.64096060941395', ' 2.6993140747384707']\n",
      "['FR6', ' 43.746597713712866', ' 0.04459495424574143']\n",
      "['FR3', '43.90151536002772', ' 5.2350389544952876']\n",
      "['FR4', '47.441984148212', ' -1.5326410584313435']\n",
      "['FR1', '45.315206581380544', ' 3.013985668399676']\n",
      "['FR5', '45.69976373942615', ' 5.9405499983138945']\n",
      "['FR2', '49.537031656642576', ' 2.5959050498405025']\n",
      "['BE0', '50.69310818250407', ' 4.634048065316476']\n",
      "['NL0', '52.255357589606184', ' 5.470209302434824']\n",
      "['DE5', '53.29852708160417', ' 9.494235401508943']\n",
      "['DE6', '52.90632760389593', ' 13.335351084521363']\n",
      "['DE2', '51.317899851702165', ' 7.116401883453636']\n",
      "['DE0', '49.925493479403755', ' 8.840984435010231']\n",
      "['DE1', '50.77579870539565', ' 11.872068919564251']\n",
      "['DE4', '48.71629537762828', ' 8.57968404841075']\n",
      "['DE3', '48.699052138097386', ' 12.342409615443325']\n",
      "['CH0', '46.998310759828925', ' 8.266123584491364']\n",
      "['IT2', '45.18643703500147', ' 9.102284821609716']\n",
      "['IT0', '45.388658152302405', ' 11.793678803584406']\n",
      "['IT1', '42.299015928732565', ' 13.36148112318131']\n",
      "['IT3', '38.948463478871055', ' 16.20965533711569']\n",
      "['IT4', '40.077315455037045', ' 8.762594319030388']\n",
      "['DK0', '55.94485853917563', ' 9.781665863860981']\n",
      "['DK1', '55.384818665642705', ' 12.081109265936442']\n",
      "['NO0', '61.381138131786734', ' 9.49423543860155']\n",
      "['CZ0', '49.891837727381294', ' 15.347364112095692']\n",
      "['SE1', '60.49267711613818', ' 15.974485120464456']\n",
      "['SE0', '67.19518424466473', ' 20.886932419282587']\n",
      "['FI0', '61.76672708487668', ' 27.210401810618496']\n",
      "['EE0', '59.12632145782028', ' 26.008420032260872']\n",
      "['LV0', '56.969904722696874', ' 24.336097596092923']\n",
      "['LT0', '55.39965940013649', ' 24.28383751877303']\n",
      "['PL0', '52.17530894815254', ' 19.52817044654595']\n",
      "['SK0', '48.90558121792526', ' 20.46885179193836']\n",
      "['HU0', '47.300412657970774', ' 18.456838815122346']\n",
      "['AT0', '47.51262752554541', ' 13.36148127643244']\n",
      "['SI0', '45.88196295488703', ' 14.537332990750947']\n"
     ]
    }
   ],
   "source": [
    "# Class Place to store the name, longitude and latitude of the places\n",
    "\n",
    "class Place:\n",
    "    def __init__(self, name: str, longitude: str, latitude: str):\n",
    "        self.name = name\n",
    "        self.longitude = longitude\n",
    "        self.latitude = latitude\n",
    "\n",
    "    def get_longitudes(places: list) -> list:\n",
    "        longitudes = []\n",
    "        for place in places:\n",
    "            longitudes.append(place.longitude)\n",
    "        return longitudes\n",
    "\n",
    "    def get_latitudes(places: list) -> list:\n",
    "        latitudes = []\n",
    "        for place in places:\n",
    "            latitudes.append(place.latitude)\n",
    "        return latitudes\n",
    "\n",
    "locations = []\n",
    "locations_input = \"locations.csv\"\n",
    "print(\"The locations from the csv file, which contains the name, longitude and latitude of the places.\")\n",
    "with open(locations_input, \"r\") as csv_file:\n",
    "    for line in csv_file:\n",
    "        line = line.strip()\n",
    "        line = line.split(\",\")\n",
    "        locations.append(Place(line[0], line[1], line[2]))\n",
    "        print(line)\n",
    "csv_file.close()"
   ]
  },
  {
   "cell_type": "code",
   "execution_count": 143,
   "metadata": {},
   "outputs": [],
   "source": [
    "#prepare libraries\n",
    "import requests\n",
    "import csv\n",
    "import os\n",
    "\n",
    "# Create the folder according to the name of the places\n",
    "for location in locations:\n",
    "    if not os.path.exists(location.name[:2]):\n",
    "        os.makedirs(location.name[:2],exist_ok=True)"
   ]
  },
  {
   "cell_type": "code",
   "execution_count": 144,
   "metadata": {},
   "outputs": [],
   "source": [
    "#prepare the api token and url\n",
    "#change the token to your own token\n",
    "token = ''\n",
    "api_base = 'https://www.renewables.ninja/api/'"
   ]
  },
  {
   "cell_type": "code",
   "execution_count": 145,
   "metadata": {},
   "outputs": [],
   "source": [
    "#prepare the session\n",
    "s = requests.session()\n",
    "# Send token header with each request\n",
    "s.headers = {'Authorization': 'Token ' + token}\n",
    "\n",
    "url = api_base + 'data/pv'"
   ]
  },
  {
   "cell_type": "code",
   "execution_count": 146,
   "metadata": {},
   "outputs": [],
   "source": [
    "from ratelimit import limits, sleep_and_retry\n",
    "\n",
    "# The API litmit is 50 requests per hour and 6 requests per minute that means 1 request per 72 seconds\n",
    "@sleep_and_retry\n",
    "@limits(calls=1, period=72)\n",
    "def make_api_call(year: str, place: Place):\n",
    "    # Construct the arguments for the API call\n",
    "    args = {\n",
    "            'lat': place.latitude,\n",
    "            'lon': place.longitude,\n",
    "            'date_from': str(year) + '-01-01',\n",
    "            'date_to': str(year) + '-12-31',\n",
    "            'dataset': 'merra2',\n",
    "            'capacity': 1.0,\n",
    "            'system_loss': 0.1,\n",
    "            'tracking': 0,\n",
    "            'tilt': 35,\n",
    "            'azim': 180,\n",
    "            'format': 'csv'\n",
    "        }\n",
    "    r = s.get(url, params=args)\n",
    "    # Parse the CSV data from the response content\n",
    "    csv_data = csv.reader(r.text.splitlines(), delimiter=',')\n",
    "    # Write the CSV data to a file on disk\n",
    "    try:\n",
    "        with open(place.name[:2]+\"/\"+place.name+\"_\"+str(year)+'.csv', mode='w', newline='') as file:\n",
    "            writer = csv.writer(file)\n",
    "            # Skip first 3 lines in csv file because it contains the metadata\n",
    "            for i in range(3):\n",
    "                next(csv_data)\n",
    "            for row in csv_data:\n",
    "                writer.writerow(row)\n",
    "        file.close()\n",
    "    except:\n",
    "        print(\"Error while writing the file \"+place.name+\"_\"+str(year)+'.csv')"
   ]
  },
  {
   "cell_type": "code",
   "execution_count": 147,
   "metadata": {},
   "outputs": [
    {
     "name": "stdout",
     "output_type": "stream",
     "text": [
      "Downloading data for IT1 in 1985\n"
     ]
    }
   ],
   "source": [
    "#collect the data from 1980 to 2020\n",
    "for year in range(1980, 2021):\n",
    "    #iterate over the locations\n",
    "    for place in locations:\n",
    "        # Check if file already exists\n",
    "        if not os.path.exists(place.name[:2]+\"/\"+place.name+\"_\"+str(year)+'.csv'):\n",
    "            print(\"Downloading data for \"+place.name+\" in \"+str(year))\n",
    "            make_api_call(year, place)"
   ]
  },
  {
   "attachments": {},
   "cell_type": "markdown",
   "metadata": {},
   "source": [
    "## Check if the downloaded data is complete\n",
    "The downloaded data is checked if the file presents and the first column of the last row is 31.12 of the according year."
   ]
  },
  {
   "cell_type": "code",
   "execution_count": 148,
   "metadata": {},
   "outputs": [
    {
     "name": "stdout",
     "output_type": "stream",
     "text": [
      "The file GB0_1986.csv is empty\n",
      "The file IE0_1987.csv is empty\n",
      "The file IT3_1989.csv is empty\n",
      "The file IT4_1989.csv is empty\n",
      "The file LV0_1990.csv is empty\n",
      "The file GB2_1996.csv is empty\n",
      "The file FR5_1996.csv is empty\n",
      "The file FR3_2001.csv is empty\n",
      "The file DE2_2002.csv is empty\n",
      "The file IT2_2005.csv is empty\n",
      "The file SE0_2006.csv is empty\n",
      "The file FR2_2010.csv is empty\n",
      "The file DE3_2011.csv is empty\n",
      "The file GB1_2015.csv is empty\n"
     ]
    }
   ],
   "source": [
    "# Set the flag variable to indicate whether all files were downloaded correctly\n",
    "all_downloaded = True\n",
    "# List of not correctly downloaded files\n",
    "not_downloaded = []\n",
    "\n",
    "for year in range(1980, 2021):\n",
    "    for place in locations:\n",
    "        if not os.path.exists(place.name[:2] + \"/\" + place.name + \"_\" + str(year) + '.csv'):\n",
    "            print(\"The file \" + place.name + \"_\" + str(year) + '.csv' + \" is not found\")\n",
    "            all_downloaded = False\n",
    "        else:\n",
    "            # Read the CSV file and extract the last row\n",
    "            with open(place.name[:2] + \"/\" + place.name + \"_\" + str(year) + '.csv', mode='r') as file:\n",
    "                reader = csv.reader(file,delimiter=',')\n",
    "                rows = list(reader)\n",
    "                if len(rows) == 0:\n",
    "                    print(\"The file \" + place.name + \"_\" + str(year) + '.csv' + \" is empty\")\n",
    "                    all_downloaded = False\n",
    "                    not_downloaded.append(place.name + \"_\" + str(year) + '.csv')\n",
    "                else:\n",
    "                    last_row = rows[-1]\n",
    "                    # Check if the first column of the last row is year-12-31 23:00\n",
    "                    if last_row[0] != str(year) + '-12-31 23:00':\n",
    "                        print(\"The file \" + place.name + \"_\" + str(year) + '.csv' + \" is not downloaded correctly\")\n",
    "                        all_downloaded = False\n",
    "                        not_downloaded.append(place.name + \"_\" + str(year) + '.csv')\n",
    "\n",
    "# Print a message indicating whether all files were downloaded correctly\n",
    "if all_downloaded:\n",
    "    print(\"All files were downloaded correctly.\")"
   ]
  },
  {
   "attachments": {},
   "cell_type": "markdown",
   "metadata": {},
   "source": [
    "## Redownload the data in case of incomplete data"
   ]
  },
  {
   "cell_type": "code",
   "execution_count": 149,
   "metadata": {},
   "outputs": [
    {
     "name": "stdout",
     "output_type": "stream",
     "text": [
      "Redownloading the file GB0_1986.csv\n",
      "Redownloading the file IE0_1987.csv\n",
      "Redownloading the file IT3_1989.csv\n",
      "Redownloading the file IT4_1989.csv\n",
      "Redownloading the file LV0_1990.csv\n",
      "Redownloading the file GB2_1996.csv\n",
      "Redownloading the file FR5_1996.csv\n",
      "Redownloading the file FR3_2001.csv\n",
      "Redownloading the file DE2_2002.csv\n",
      "Redownloading the file IT2_2005.csv\n",
      "Redownloading the file SE0_2006.csv\n",
      "Redownloading the file FR2_2010.csv\n",
      "Redownloading the file DE3_2011.csv\n",
      "Redownloading the file GB1_2015.csv\n"
     ]
    }
   ],
   "source": [
    "# Redownload the files that were not downloaded correctly\n",
    "for file in not_downloaded:\n",
    "    print(\"Redownloading the file \" + file)\n",
    "    # Extract the name of the place and the year from the file name\n",
    "    place_name = file.split(\"_\")[0]\n",
    "    year = file.split(\"_\")[1].split(\".\")[0]\n",
    "    # Find the place object with the name\n",
    "    for place in locations:\n",
    "        if place.name == place_name:\n",
    "            make_api_call(year, place)"
   ]
  }
 ],
 "metadata": {
  "kernelspec": {
   "display_name": "virtualenv",
   "language": "python",
   "name": "python3"
  },
  "language_info": {
   "codemirror_mode": {
    "name": "ipython",
    "version": 3
   },
   "file_extension": ".py",
   "mimetype": "text/x-python",
   "name": "python",
   "nbconvert_exporter": "python",
   "pygments_lexer": "ipython3",
   "version": "3.9.9"
  },
  "orig_nbformat": 4,
  "vscode": {
   "interpreter": {
    "hash": "a6df129ece7bad99003f490d728a98a42a829be765b744741c14b559e9f44ade"
   }
  }
 },
 "nbformat": 4,
 "nbformat_minor": 2
}
